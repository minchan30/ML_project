{
  "nbformat": 4,
  "nbformat_minor": 0,
  "metadata": {
    "colab": {
      "provenance": []
    },
    "kernelspec": {
      "name": "python3",
      "display_name": "Python 3"
    },
    "language_info": {
      "name": "python"
    }
  },
  "cells": [
    {
      "cell_type": "markdown",
      "source": [
        "## 📁 현재 폴더 경로 확인"
      ],
      "metadata": {
        "id": "S5lmPtyWfr1d"
      }
    },
    {
      "cell_type": "code",
      "source": [
        "import os\n",
        "os.getcwd()"
      ],
      "metadata": {
        "colab": {
          "base_uri": "https://localhost:8080/",
          "height": 36
        },
        "id": "J28IkSSsSRDb",
        "outputId": "84086965-4532-4d2b-a603-0da2a87b5c53"
      },
      "execution_count": null,
      "outputs": [
        {
          "output_type": "execute_result",
          "data": {
            "text/plain": [
              "'/content'"
            ],
            "application/vnd.google.colaboratory.intrinsic+json": {
              "type": "string"
            }
          },
          "metadata": {},
          "execution_count": 78
        }
      ]
    },
    {
      "cell_type": "markdown",
      "source": [
        "## 👍 필수 모델 import\n"
      ],
      "metadata": {
        "id": "vAfskCFugBKs"
      }
    },
    {
      "cell_type": "code",
      "source": [
        "import math\n",
        "import matplotlib.pyplot as plt\n",
        "import keras\n",
        "import pandas as pd\n",
        "import numpy as np\n",
        "from keras.models import Sequential\n",
        "from keras.layers import Dense\n",
        "from keras.layers import LSTM\n",
        "from keras.layers import Dropout\n",
        "from keras.layers import *\n",
        "from sklearn.preprocessing import MinMaxScaler\n",
        "from sklearn.metrics import mean_squared_error\n",
        "from sklearn.metrics import mean_absolute_error\n",
        "from sklearn.model_selection import train_test_split\n",
        "from keras.callbacks import EarlyStopping"
      ],
      "metadata": {
        "id": "xNt12PB0YfOl"
      },
      "execution_count": null,
      "outputs": []
    },
    {
      "cell_type": "markdown",
      "source": [
        "## 📙 예측 할 주식 선정"
      ],
      "metadata": {
        "id": "IxnotbId_F5P"
      }
    },
    {
      "cell_type": "code",
      "source": [
        "df=pd.read_csv(\"sample_data/SAMSUNG.csv\")\n",
        "print('Number of rows and columns:', df.shape)\n",
        "df.head(5)"
      ],
      "metadata": {
        "colab": {
          "base_uri": "https://localhost:8080/",
          "height": 224
        },
        "id": "7qxKSzvmYzj7",
        "outputId": "bde2e347-3ede-41ea-8c7f-5cbdea222db7"
      },
      "execution_count": null,
      "outputs": [
        {
          "output_type": "stream",
          "name": "stdout",
          "text": [
            "Number of rows and columns: (1231, 7)\n"
          ]
        },
        {
          "output_type": "execute_result",
          "data": {
            "text/plain": [
              "         Date   Open   High    Low  Close    Adj Close    Volume\n",
              "0  2019-05-20  41650  42100  41550  42000  36897.00781  15752397\n",
              "1  2019-05-21  42600  43950  42350  43150  37907.28906  18812133\n",
              "2  2019-05-22  43700  43800  42400  43500  38214.76172  11033339\n",
              "3  2019-05-23  43900  44000  43250  43850  38522.23047  12259006\n",
              "4  2019-05-24  43800  43800  42400  42700  37511.96484  13966305"
            ],
            "text/html": [
              "\n",
              "  <div id=\"df-b01fee26-b5de-47aa-a0fc-c3476efdfbb1\" class=\"colab-df-container\">\n",
              "    <div>\n",
              "<style scoped>\n",
              "    .dataframe tbody tr th:only-of-type {\n",
              "        vertical-align: middle;\n",
              "    }\n",
              "\n",
              "    .dataframe tbody tr th {\n",
              "        vertical-align: top;\n",
              "    }\n",
              "\n",
              "    .dataframe thead th {\n",
              "        text-align: right;\n",
              "    }\n",
              "</style>\n",
              "<table border=\"1\" class=\"dataframe\">\n",
              "  <thead>\n",
              "    <tr style=\"text-align: right;\">\n",
              "      <th></th>\n",
              "      <th>Date</th>\n",
              "      <th>Open</th>\n",
              "      <th>High</th>\n",
              "      <th>Low</th>\n",
              "      <th>Close</th>\n",
              "      <th>Adj Close</th>\n",
              "      <th>Volume</th>\n",
              "    </tr>\n",
              "  </thead>\n",
              "  <tbody>\n",
              "    <tr>\n",
              "      <th>0</th>\n",
              "      <td>2019-05-20</td>\n",
              "      <td>41650</td>\n",
              "      <td>42100</td>\n",
              "      <td>41550</td>\n",
              "      <td>42000</td>\n",
              "      <td>36897.00781</td>\n",
              "      <td>15752397</td>\n",
              "    </tr>\n",
              "    <tr>\n",
              "      <th>1</th>\n",
              "      <td>2019-05-21</td>\n",
              "      <td>42600</td>\n",
              "      <td>43950</td>\n",
              "      <td>42350</td>\n",
              "      <td>43150</td>\n",
              "      <td>37907.28906</td>\n",
              "      <td>18812133</td>\n",
              "    </tr>\n",
              "    <tr>\n",
              "      <th>2</th>\n",
              "      <td>2019-05-22</td>\n",
              "      <td>43700</td>\n",
              "      <td>43800</td>\n",
              "      <td>42400</td>\n",
              "      <td>43500</td>\n",
              "      <td>38214.76172</td>\n",
              "      <td>11033339</td>\n",
              "    </tr>\n",
              "    <tr>\n",
              "      <th>3</th>\n",
              "      <td>2019-05-23</td>\n",
              "      <td>43900</td>\n",
              "      <td>44000</td>\n",
              "      <td>43250</td>\n",
              "      <td>43850</td>\n",
              "      <td>38522.23047</td>\n",
              "      <td>12259006</td>\n",
              "    </tr>\n",
              "    <tr>\n",
              "      <th>4</th>\n",
              "      <td>2019-05-24</td>\n",
              "      <td>43800</td>\n",
              "      <td>43800</td>\n",
              "      <td>42400</td>\n",
              "      <td>42700</td>\n",
              "      <td>37511.96484</td>\n",
              "      <td>13966305</td>\n",
              "    </tr>\n",
              "  </tbody>\n",
              "</table>\n",
              "</div>\n",
              "    <div class=\"colab-df-buttons\">\n",
              "\n",
              "  <div class=\"colab-df-container\">\n",
              "    <button class=\"colab-df-convert\" onclick=\"convertToInteractive('df-b01fee26-b5de-47aa-a0fc-c3476efdfbb1')\"\n",
              "            title=\"Convert this dataframe to an interactive table.\"\n",
              "            style=\"display:none;\">\n",
              "\n",
              "  <svg xmlns=\"http://www.w3.org/2000/svg\" height=\"24px\" viewBox=\"0 -960 960 960\">\n",
              "    <path d=\"M120-120v-720h720v720H120Zm60-500h600v-160H180v160Zm220 220h160v-160H400v160Zm0 220h160v-160H400v160ZM180-400h160v-160H180v160Zm440 0h160v-160H620v160ZM180-180h160v-160H180v160Zm440 0h160v-160H620v160Z\"/>\n",
              "  </svg>\n",
              "    </button>\n",
              "\n",
              "  <style>\n",
              "    .colab-df-container {\n",
              "      display:flex;\n",
              "      gap: 12px;\n",
              "    }\n",
              "\n",
              "    .colab-df-convert {\n",
              "      background-color: #E8F0FE;\n",
              "      border: none;\n",
              "      border-radius: 50%;\n",
              "      cursor: pointer;\n",
              "      display: none;\n",
              "      fill: #1967D2;\n",
              "      height: 32px;\n",
              "      padding: 0 0 0 0;\n",
              "      width: 32px;\n",
              "    }\n",
              "\n",
              "    .colab-df-convert:hover {\n",
              "      background-color: #E2EBFA;\n",
              "      box-shadow: 0px 1px 2px rgba(60, 64, 67, 0.3), 0px 1px 3px 1px rgba(60, 64, 67, 0.15);\n",
              "      fill: #174EA6;\n",
              "    }\n",
              "\n",
              "    .colab-df-buttons div {\n",
              "      margin-bottom: 4px;\n",
              "    }\n",
              "\n",
              "    [theme=dark] .colab-df-convert {\n",
              "      background-color: #3B4455;\n",
              "      fill: #D2E3FC;\n",
              "    }\n",
              "\n",
              "    [theme=dark] .colab-df-convert:hover {\n",
              "      background-color: #434B5C;\n",
              "      box-shadow: 0px 1px 3px 1px rgba(0, 0, 0, 0.15);\n",
              "      filter: drop-shadow(0px 1px 2px rgba(0, 0, 0, 0.3));\n",
              "      fill: #FFFFFF;\n",
              "    }\n",
              "  </style>\n",
              "\n",
              "    <script>\n",
              "      const buttonEl =\n",
              "        document.querySelector('#df-b01fee26-b5de-47aa-a0fc-c3476efdfbb1 button.colab-df-convert');\n",
              "      buttonEl.style.display =\n",
              "        google.colab.kernel.accessAllowed ? 'block' : 'none';\n",
              "\n",
              "      async function convertToInteractive(key) {\n",
              "        const element = document.querySelector('#df-b01fee26-b5de-47aa-a0fc-c3476efdfbb1');\n",
              "        const dataTable =\n",
              "          await google.colab.kernel.invokeFunction('convertToInteractive',\n",
              "                                                    [key], {});\n",
              "        if (!dataTable) return;\n",
              "\n",
              "        const docLinkHtml = 'Like what you see? Visit the ' +\n",
              "          '<a target=\"_blank\" href=https://colab.research.google.com/notebooks/data_table.ipynb>data table notebook</a>'\n",
              "          + ' to learn more about interactive tables.';\n",
              "        element.innerHTML = '';\n",
              "        dataTable['output_type'] = 'display_data';\n",
              "        await google.colab.output.renderOutput(dataTable, element);\n",
              "        const docLink = document.createElement('div');\n",
              "        docLink.innerHTML = docLinkHtml;\n",
              "        element.appendChild(docLink);\n",
              "      }\n",
              "    </script>\n",
              "  </div>\n",
              "\n",
              "\n",
              "<div id=\"df-22c6659f-ebda-4d3f-bc34-f0112ad7f19c\">\n",
              "  <button class=\"colab-df-quickchart\" onclick=\"quickchart('df-22c6659f-ebda-4d3f-bc34-f0112ad7f19c')\"\n",
              "            title=\"Suggest charts\"\n",
              "            style=\"display:none;\">\n",
              "\n",
              "<svg xmlns=\"http://www.w3.org/2000/svg\" height=\"24px\"viewBox=\"0 0 24 24\"\n",
              "     width=\"24px\">\n",
              "    <g>\n",
              "        <path d=\"M19 3H5c-1.1 0-2 .9-2 2v14c0 1.1.9 2 2 2h14c1.1 0 2-.9 2-2V5c0-1.1-.9-2-2-2zM9 17H7v-7h2v7zm4 0h-2V7h2v10zm4 0h-2v-4h2v4z\"/>\n",
              "    </g>\n",
              "</svg>\n",
              "  </button>\n",
              "\n",
              "<style>\n",
              "  .colab-df-quickchart {\n",
              "      --bg-color: #E8F0FE;\n",
              "      --fill-color: #1967D2;\n",
              "      --hover-bg-color: #E2EBFA;\n",
              "      --hover-fill-color: #174EA6;\n",
              "      --disabled-fill-color: #AAA;\n",
              "      --disabled-bg-color: #DDD;\n",
              "  }\n",
              "\n",
              "  [theme=dark] .colab-df-quickchart {\n",
              "      --bg-color: #3B4455;\n",
              "      --fill-color: #D2E3FC;\n",
              "      --hover-bg-color: #434B5C;\n",
              "      --hover-fill-color: #FFFFFF;\n",
              "      --disabled-bg-color: #3B4455;\n",
              "      --disabled-fill-color: #666;\n",
              "  }\n",
              "\n",
              "  .colab-df-quickchart {\n",
              "    background-color: var(--bg-color);\n",
              "    border: none;\n",
              "    border-radius: 50%;\n",
              "    cursor: pointer;\n",
              "    display: none;\n",
              "    fill: var(--fill-color);\n",
              "    height: 32px;\n",
              "    padding: 0;\n",
              "    width: 32px;\n",
              "  }\n",
              "\n",
              "  .colab-df-quickchart:hover {\n",
              "    background-color: var(--hover-bg-color);\n",
              "    box-shadow: 0 1px 2px rgba(60, 64, 67, 0.3), 0 1px 3px 1px rgba(60, 64, 67, 0.15);\n",
              "    fill: var(--button-hover-fill-color);\n",
              "  }\n",
              "\n",
              "  .colab-df-quickchart-complete:disabled,\n",
              "  .colab-df-quickchart-complete:disabled:hover {\n",
              "    background-color: var(--disabled-bg-color);\n",
              "    fill: var(--disabled-fill-color);\n",
              "    box-shadow: none;\n",
              "  }\n",
              "\n",
              "  .colab-df-spinner {\n",
              "    border: 2px solid var(--fill-color);\n",
              "    border-color: transparent;\n",
              "    border-bottom-color: var(--fill-color);\n",
              "    animation:\n",
              "      spin 1s steps(1) infinite;\n",
              "  }\n",
              "\n",
              "  @keyframes spin {\n",
              "    0% {\n",
              "      border-color: transparent;\n",
              "      border-bottom-color: var(--fill-color);\n",
              "      border-left-color: var(--fill-color);\n",
              "    }\n",
              "    20% {\n",
              "      border-color: transparent;\n",
              "      border-left-color: var(--fill-color);\n",
              "      border-top-color: var(--fill-color);\n",
              "    }\n",
              "    30% {\n",
              "      border-color: transparent;\n",
              "      border-left-color: var(--fill-color);\n",
              "      border-top-color: var(--fill-color);\n",
              "      border-right-color: var(--fill-color);\n",
              "    }\n",
              "    40% {\n",
              "      border-color: transparent;\n",
              "      border-right-color: var(--fill-color);\n",
              "      border-top-color: var(--fill-color);\n",
              "    }\n",
              "    60% {\n",
              "      border-color: transparent;\n",
              "      border-right-color: var(--fill-color);\n",
              "    }\n",
              "    80% {\n",
              "      border-color: transparent;\n",
              "      border-right-color: var(--fill-color);\n",
              "      border-bottom-color: var(--fill-color);\n",
              "    }\n",
              "    90% {\n",
              "      border-color: transparent;\n",
              "      border-bottom-color: var(--fill-color);\n",
              "    }\n",
              "  }\n",
              "</style>\n",
              "\n",
              "  <script>\n",
              "    async function quickchart(key) {\n",
              "      const quickchartButtonEl =\n",
              "        document.querySelector('#' + key + ' button');\n",
              "      quickchartButtonEl.disabled = true;  // To prevent multiple clicks.\n",
              "      quickchartButtonEl.classList.add('colab-df-spinner');\n",
              "      try {\n",
              "        const charts = await google.colab.kernel.invokeFunction(\n",
              "            'suggestCharts', [key], {});\n",
              "      } catch (error) {\n",
              "        console.error('Error during call to suggestCharts:', error);\n",
              "      }\n",
              "      quickchartButtonEl.classList.remove('colab-df-spinner');\n",
              "      quickchartButtonEl.classList.add('colab-df-quickchart-complete');\n",
              "    }\n",
              "    (() => {\n",
              "      let quickchartButtonEl =\n",
              "        document.querySelector('#df-22c6659f-ebda-4d3f-bc34-f0112ad7f19c button');\n",
              "      quickchartButtonEl.style.display =\n",
              "        google.colab.kernel.accessAllowed ? 'block' : 'none';\n",
              "    })();\n",
              "  </script>\n",
              "</div>\n",
              "\n",
              "    </div>\n",
              "  </div>\n"
            ],
            "application/vnd.google.colaboratory.intrinsic+json": {
              "type": "dataframe",
              "variable_name": "df",
              "summary": "{\n  \"name\": \"df\",\n  \"rows\": 1231,\n  \"fields\": [\n    {\n      \"column\": \"Date\",\n      \"properties\": {\n        \"dtype\": \"object\",\n        \"num_unique_values\": 1231,\n        \"samples\": [\n          \"2021-08-04\",\n          \"2023-08-18\",\n          \"2020-05-15\"\n        ],\n        \"semantic_type\": \"\",\n        \"description\": \"\"\n      }\n    },\n    {\n      \"column\": \"Open\",\n      \"properties\": {\n        \"dtype\": \"number\",\n        \"std\": 11470,\n        \"min\": 41650,\n        \"max\": 90300,\n        \"num_unique_values\": 427,\n        \"samples\": [\n          75900,\n          50600,\n          57900\n        ],\n        \"semantic_type\": \"\",\n        \"description\": \"\"\n      }\n    },\n    {\n      \"column\": \"High\",\n      \"properties\": {\n        \"dtype\": \"number\",\n        \"std\": 11523,\n        \"min\": 42100,\n        \"max\": 96800,\n        \"num_unique_values\": 420,\n        \"samples\": [\n          49800,\n          78100,\n          59300\n        ],\n        \"semantic_type\": \"\",\n        \"description\": \"\"\n      }\n    },\n    {\n      \"column\": \"Low\",\n      \"properties\": {\n        \"dtype\": \"number\",\n        \"std\": 11391,\n        \"min\": 41300,\n        \"max\": 89500,\n        \"num_unique_values\": 421,\n        \"samples\": [\n          48500,\n          68500,\n          60600\n        ],\n        \"semantic_type\": \"\",\n        \"description\": \"\"\n      }\n    },\n    {\n      \"column\": \"Close\",\n      \"properties\": {\n        \"dtype\": \"number\",\n        \"std\": 11435,\n        \"min\": 41800,\n        \"max\": 91000,\n        \"num_unique_values\": 436,\n        \"samples\": [\n          63500,\n          49900,\n          79900\n        ],\n        \"semantic_type\": \"\",\n        \"description\": \"\"\n      }\n    },\n    {\n      \"column\": \"Adj Close\",\n      \"properties\": {\n        \"dtype\": \"number\",\n        \"std\": 12172.905659964483,\n        \"min\": 36721.30469,\n        \"max\": 85433.32031,\n        \"num_unique_values\": 879,\n        \"samples\": [\n          77077.75,\n          51334.22656,\n          70565.85938\n        ],\n        \"semantic_type\": \"\",\n        \"description\": \"\"\n      }\n    },\n    {\n      \"column\": \"Volume\",\n      \"properties\": {\n        \"dtype\": \"number\",\n        \"std\": 8461538,\n        \"min\": 0,\n        \"max\": 90306177,\n        \"num_unique_values\": 1219,\n        \"samples\": [\n          11427693,\n          25634965,\n          8819393\n        ],\n        \"semantic_type\": \"\",\n        \"description\": \"\"\n      }\n    }\n  ]\n}"
            }
          },
          "metadata": {},
          "execution_count": 80
        }
      ]
    },
    {
      "cell_type": "markdown",
      "source": [
        "## 데이터셋 가공"
      ],
      "metadata": {
        "id": "bk8m2wFrKBb6"
      }
    },
    {
      "cell_type": "code",
      "source": [
        "training_set = df.iloc[:1000, 1:2].values\n",
        "test_set = df.iloc[1000:, 1:2].values"
      ],
      "metadata": {
        "id": "SjnxMs19Y5Hk"
      },
      "execution_count": null,
      "outputs": []
    },
    {
      "cell_type": "code",
      "source": [
        "sc = MinMaxScaler(feature_range = (0, 1))\n",
        "training_set_scaled = sc.fit_transform(training_set)\n",
        "X_train = []\n",
        "y_train = []\n",
        "for i in range(60, 1000):\n",
        "   X_train.append(training_set_scaled[i-60:i, 0])\n",
        "   y_train.append(training_set_scaled[i, 0])\n",
        "X_train, y_train = np.array(X_train), np.array(y_train)\n",
        "X_train = np.reshape(X_train, (X_train.shape[0], X_train.shape[1], 1))\n"
      ],
      "metadata": {
        "id": "Te_639R_Y7Pl"
      },
      "execution_count": null,
      "outputs": []
    },
    {
      "cell_type": "markdown",
      "source": [
        "## 📖 학습 시키기"
      ],
      "metadata": {
        "id": "HPwkxl_qMF4M"
      }
    },
    {
      "cell_type": "code",
      "source": [
        "model = Sequential()\n",
        "model.add(LSTM(units = 50, return_sequences = True, input_shape = (X_train.shape[1], 1)))\n",
        "model.add(Dropout(0.2))\n",
        "model.add(LSTM(units = 50, return_sequences = True))\n",
        "model.add(Dropout(0.2))\n",
        "model.add(LSTM(units = 50, return_sequences = True))\n",
        "model.add(Dropout(0.2))\n",
        "model.add(LSTM(units = 50))\n",
        "model.add(Dropout(0.2))\n",
        "model.add(Dense(units = 1))\n",
        "model.compile(optimizer = 'adam', loss = 'mean_squared_error')\n",
        "model.fit(X_train, y_train, epochs = 100, batch_size = 32)"
      ],
      "metadata": {
        "colab": {
          "base_uri": "https://localhost:8080/"
        },
        "id": "nmvI9j5bY9xB",
        "outputId": "7181a5da-6d41-4e84-be51-f7647115a518"
      },
      "execution_count": null,
      "outputs": [
        {
          "output_type": "stream",
          "name": "stdout",
          "text": [
            "Epoch 1/100\n",
            "30/30 [==============================] - 15s 128ms/step - loss: 0.0388\n",
            "Epoch 2/100\n",
            "30/30 [==============================] - 4s 133ms/step - loss: 0.0098\n",
            "Epoch 3/100\n",
            "30/30 [==============================] - 5s 173ms/step - loss: 0.0084\n",
            "Epoch 4/100\n",
            "30/30 [==============================] - 4s 126ms/step - loss: 0.0076\n",
            "Epoch 5/100\n",
            "30/30 [==============================] - 4s 126ms/step - loss: 0.0071\n",
            "Epoch 6/100\n",
            "30/30 [==============================] - 6s 191ms/step - loss: 0.0061\n",
            "Epoch 7/100\n",
            "30/30 [==============================] - 4s 128ms/step - loss: 0.0065\n",
            "Epoch 8/100\n",
            "30/30 [==============================] - 6s 187ms/step - loss: 0.0062\n",
            "Epoch 9/100\n",
            "30/30 [==============================] - 7s 237ms/step - loss: 0.0060\n",
            "Epoch 10/100\n",
            "30/30 [==============================] - 6s 192ms/step - loss: 0.0053\n",
            "Epoch 11/100\n",
            "30/30 [==============================] - 4s 139ms/step - loss: 0.0053\n",
            "Epoch 12/100\n",
            "30/30 [==============================] - 6s 193ms/step - loss: 0.0061\n",
            "Epoch 13/100\n",
            "30/30 [==============================] - 7s 246ms/step - loss: 0.0054\n",
            "Epoch 14/100\n",
            "30/30 [==============================] - 5s 169ms/step - loss: 0.0051\n",
            "Epoch 15/100\n",
            "30/30 [==============================] - 4s 144ms/step - loss: 0.0049\n",
            "Epoch 16/100\n",
            "30/30 [==============================] - 4s 128ms/step - loss: 0.0047\n",
            "Epoch 17/100\n",
            "30/30 [==============================] - 4s 141ms/step - loss: 0.0045\n",
            "Epoch 18/100\n",
            "30/30 [==============================] - 5s 173ms/step - loss: 0.0043\n",
            "Epoch 19/100\n",
            "30/30 [==============================] - 4s 129ms/step - loss: 0.0044\n",
            "Epoch 20/100\n",
            "30/30 [==============================] - 4s 127ms/step - loss: 0.0046\n",
            "Epoch 21/100\n",
            "30/30 [==============================] - 6s 188ms/step - loss: 0.0050\n",
            "Epoch 22/100\n",
            "30/30 [==============================] - 4s 127ms/step - loss: 0.0042\n",
            "Epoch 23/100\n",
            "30/30 [==============================] - 4s 124ms/step - loss: 0.0038\n",
            "Epoch 24/100\n",
            "30/30 [==============================] - 5s 174ms/step - loss: 0.0038\n",
            "Epoch 25/100\n",
            "30/30 [==============================] - 4s 134ms/step - loss: 0.0040\n",
            "Epoch 26/100\n",
            "30/30 [==============================] - 4s 127ms/step - loss: 0.0039\n",
            "Epoch 27/100\n",
            "30/30 [==============================] - 4s 141ms/step - loss: 0.0041\n",
            "Epoch 28/100\n",
            "30/30 [==============================] - 5s 167ms/step - loss: 0.0036\n",
            "Epoch 29/100\n",
            "30/30 [==============================] - 4s 125ms/step - loss: 0.0036\n",
            "Epoch 30/100\n",
            "30/30 [==============================] - 4s 128ms/step - loss: 0.0038\n",
            "Epoch 31/100\n",
            "30/30 [==============================] - 6s 204ms/step - loss: 0.0033\n",
            "Epoch 32/100\n",
            "30/30 [==============================] - 4s 126ms/step - loss: 0.0035\n",
            "Epoch 33/100\n",
            "30/30 [==============================] - 4s 127ms/step - loss: 0.0035\n",
            "Epoch 34/100\n",
            "30/30 [==============================] - 9s 321ms/step - loss: 0.0033\n",
            "Epoch 35/100\n",
            "30/30 [==============================] - 5s 156ms/step - loss: 0.0035\n",
            "Epoch 36/100\n",
            "30/30 [==============================] - 4s 144ms/step - loss: 0.0031\n",
            "Epoch 37/100\n",
            "30/30 [==============================] - 5s 172ms/step - loss: 0.0033\n",
            "Epoch 38/100\n",
            "30/30 [==============================] - 4s 126ms/step - loss: 0.0032\n",
            "Epoch 39/100\n",
            "30/30 [==============================] - 4s 127ms/step - loss: 0.0033\n",
            "Epoch 40/100\n",
            "30/30 [==============================] - 5s 184ms/step - loss: 0.0030\n",
            "Epoch 41/100\n",
            "30/30 [==============================] - 4s 130ms/step - loss: 0.0027\n",
            "Epoch 42/100\n",
            "30/30 [==============================] - 4s 126ms/step - loss: 0.0029\n",
            "Epoch 43/100\n",
            "30/30 [==============================] - 6s 187ms/step - loss: 0.0028\n",
            "Epoch 44/100\n",
            "30/30 [==============================] - 4s 137ms/step - loss: 0.0028\n",
            "Epoch 45/100\n",
            "30/30 [==============================] - 5s 180ms/step - loss: 0.0028\n",
            "Epoch 46/100\n",
            "30/30 [==============================] - 6s 191ms/step - loss: 0.0030\n",
            "Epoch 47/100\n",
            "30/30 [==============================] - 4s 127ms/step - loss: 0.0027\n",
            "Epoch 48/100\n",
            "30/30 [==============================] - 4s 127ms/step - loss: 0.0030\n",
            "Epoch 49/100\n",
            "30/30 [==============================] - 5s 182ms/step - loss: 0.0027\n",
            "Epoch 50/100\n",
            "30/30 [==============================] - 4s 129ms/step - loss: 0.0029\n",
            "Epoch 51/100\n",
            "30/30 [==============================] - 4s 126ms/step - loss: 0.0028\n",
            "Epoch 52/100\n",
            "30/30 [==============================] - 5s 168ms/step - loss: 0.0027\n",
            "Epoch 53/100\n",
            "30/30 [==============================] - 5s 177ms/step - loss: 0.0027\n",
            "Epoch 54/100\n",
            "30/30 [==============================] - 4s 126ms/step - loss: 0.0025\n",
            "Epoch 55/100\n",
            "30/30 [==============================] - 4s 145ms/step - loss: 0.0026\n",
            "Epoch 56/100\n",
            "30/30 [==============================] - 5s 168ms/step - loss: 0.0028\n",
            "Epoch 57/100\n",
            "30/30 [==============================] - 4s 127ms/step - loss: 0.0026\n",
            "Epoch 58/100\n",
            "30/30 [==============================] - 4s 129ms/step - loss: 0.0024\n",
            "Epoch 59/100\n",
            "30/30 [==============================] - 6s 205ms/step - loss: 0.0025\n",
            "Epoch 60/100\n",
            "30/30 [==============================] - 5s 162ms/step - loss: 0.0027\n",
            "Epoch 61/100\n",
            "30/30 [==============================] - 4s 128ms/step - loss: 0.0024\n",
            "Epoch 62/100\n",
            "30/30 [==============================] - 6s 190ms/step - loss: 0.0025\n",
            "Epoch 63/100\n",
            "30/30 [==============================] - 4s 128ms/step - loss: 0.0023\n",
            "Epoch 64/100\n",
            "30/30 [==============================] - 4s 128ms/step - loss: 0.0023\n",
            "Epoch 65/100\n",
            "30/30 [==============================] - 6s 189ms/step - loss: 0.0023\n",
            "Epoch 66/100\n",
            "30/30 [==============================] - 4s 125ms/step - loss: 0.0027\n",
            "Epoch 67/100\n",
            "30/30 [==============================] - 4s 127ms/step - loss: 0.0023\n",
            "Epoch 68/100\n",
            "30/30 [==============================] - 5s 167ms/step - loss: 0.0020\n",
            "Epoch 69/100\n",
            "30/30 [==============================] - 5s 151ms/step - loss: 0.0023\n",
            "Epoch 70/100\n",
            "30/30 [==============================] - 4s 127ms/step - loss: 0.0024\n",
            "Epoch 71/100\n",
            "30/30 [==============================] - 4s 136ms/step - loss: 0.0022\n",
            "Epoch 72/100\n",
            "30/30 [==============================] - 5s 180ms/step - loss: 0.0022\n",
            "Epoch 73/100\n",
            "30/30 [==============================] - 4s 127ms/step - loss: 0.0023\n",
            "Epoch 74/100\n",
            "30/30 [==============================] - 4s 126ms/step - loss: 0.0024\n",
            "Epoch 75/100\n",
            "30/30 [==============================] - 6s 192ms/step - loss: 0.0022\n",
            "Epoch 76/100\n",
            "30/30 [==============================] - 4s 130ms/step - loss: 0.0018\n",
            "Epoch 77/100\n",
            "30/30 [==============================] - 4s 126ms/step - loss: 0.0021\n",
            "Epoch 78/100\n",
            "30/30 [==============================] - 5s 179ms/step - loss: 0.0020\n",
            "Epoch 79/100\n",
            "30/30 [==============================] - 4s 137ms/step - loss: 0.0021\n",
            "Epoch 80/100\n",
            "30/30 [==============================] - 4s 127ms/step - loss: 0.0020\n",
            "Epoch 81/100\n",
            "30/30 [==============================] - 6s 187ms/step - loss: 0.0022\n",
            "Epoch 82/100\n",
            "30/30 [==============================] - 6s 189ms/step - loss: 0.0024\n",
            "Epoch 83/100\n",
            "30/30 [==============================] - 4s 128ms/step - loss: 0.0021\n",
            "Epoch 84/100\n",
            "30/30 [==============================] - 4s 128ms/step - loss: 0.0019\n",
            "Epoch 85/100\n",
            "30/30 [==============================] - 6s 189ms/step - loss: 0.0019\n",
            "Epoch 86/100\n",
            "30/30 [==============================] - 5s 164ms/step - loss: 0.0021\n",
            "Epoch 87/100\n",
            "30/30 [==============================] - 4s 134ms/step - loss: 0.0019\n",
            "Epoch 88/100\n",
            "30/30 [==============================] - 6s 189ms/step - loss: 0.0019\n",
            "Epoch 89/100\n",
            "30/30 [==============================] - 4s 129ms/step - loss: 0.0020\n",
            "Epoch 90/100\n",
            "30/30 [==============================] - 4s 125ms/step - loss: 0.0017\n",
            "Epoch 91/100\n",
            "30/30 [==============================] - 5s 183ms/step - loss: 0.0020\n",
            "Epoch 92/100\n",
            "30/30 [==============================] - 4s 125ms/step - loss: 0.0019\n",
            "Epoch 93/100\n",
            "30/30 [==============================] - 4s 125ms/step - loss: 0.0018\n",
            "Epoch 94/100\n",
            "30/30 [==============================] - 5s 152ms/step - loss: 0.0018\n",
            "Epoch 95/100\n",
            "30/30 [==============================] - 5s 161ms/step - loss: 0.0017\n",
            "Epoch 96/100\n",
            "30/30 [==============================] - 4s 127ms/step - loss: 0.0018\n",
            "Epoch 97/100\n",
            "30/30 [==============================] - 4s 129ms/step - loss: 0.0016\n",
            "Epoch 98/100\n",
            "30/30 [==============================] - 6s 185ms/step - loss: 0.0018\n",
            "Epoch 99/100\n",
            "30/30 [==============================] - 4s 125ms/step - loss: 0.0017\n",
            "Epoch 100/100\n",
            "30/30 [==============================] - 4s 127ms/step - loss: 0.0017\n"
          ]
        },
        {
          "output_type": "execute_result",
          "data": {
            "text/plain": [
              "<keras.src.callbacks.History at 0x7e41b6a0f580>"
            ]
          },
          "metadata": {},
          "execution_count": 83
        }
      ]
    },
    {
      "cell_type": "markdown",
      "source": [
        "## 테스트 데이터 준비"
      ],
      "metadata": {
        "id": "fERwKTyySRne"
      }
    },
    {
      "cell_type": "code",
      "source": [
        "dataset_train = df.iloc[:1000, 1:2]\n",
        "dataset_test = df.iloc[1000:, 1:2]\n",
        "dataset_total = pd.concat((dataset_train, dataset_test), axis = 0)\n",
        "inputs = dataset_total[len(dataset_total) - len(dataset_test) - 60:].values\n",
        "inputs = inputs.reshape(-1,1)\n",
        "inputs = sc.transform(inputs)\n",
        "X_test = []\n",
        "for i in range(60, 291):\n",
        "   X_test.append(inputs[i-60:i, 0])\n",
        "X_test = np.array(X_test)\n",
        "X_test = np.reshape(X_test, (X_test.shape[0], X_test.shape[1], 1))\n",
        "print(X_test.shape)"
      ],
      "metadata": {
        "colab": {
          "base_uri": "https://localhost:8080/"
        },
        "id": "ncag1uhZZAPj",
        "outputId": "939aa6ed-5157-4d2e-f742-79420eb29464"
      },
      "execution_count": null,
      "outputs": [
        {
          "output_type": "stream",
          "name": "stdout",
          "text": [
            "(231, 60, 1)\n"
          ]
        }
      ]
    },
    {
      "cell_type": "markdown",
      "source": [
        "## 테스트 세트를 이용하여 예측"
      ],
      "metadata": {
        "id": "KRqDfCjpSW1n"
      }
    },
    {
      "cell_type": "code",
      "source": [
        "predicted_stock_price = model.predict(X_test)\n",
        "predicted_stock_price = sc.inverse_transform(predicted_stock_price)"
      ],
      "metadata": {
        "colab": {
          "base_uri": "https://localhost:8080/"
        },
        "id": "BHBRfsCgZaGu",
        "outputId": "4f1d54ea-c37c-45c5-a6dc-064c9a9c79fd"
      },
      "execution_count": null,
      "outputs": [
        {
          "output_type": "stream",
          "name": "stdout",
          "text": [
            "8/8 [==============================] - 2s 35ms/step\n"
          ]
        }
      ]
    },
    {
      "cell_type": "markdown",
      "source": [
        "## 👁️👁️ 데이터 시각화"
      ],
      "metadata": {
        "id": "_RR8KPq9MRT6"
      }
    },
    {
      "cell_type": "code",
      "source": [
        "plt.plot(df.loc[1000:, 'Date'],dataset_test.values, color = 'red', label = 'Real Samsung Stock Price')\n",
        "plt.plot(df.loc[1000:, 'Date'],predicted_stock_price, color = 'blue', label = 'Predicted Samsung Stock Price')\n",
        "plt.xticks(np.arange(0,231,50))\n",
        "plt.title('Samsung Stock Price Prediction')\n",
        "plt.xlabel('Time')\n",
        "plt.ylabel('Samsung Stock Price')\n",
        "plt.legend()\n",
        "plt.show()"
      ],
      "metadata": {
        "colab": {
          "base_uri": "https://localhost:8080/",
          "height": 472
        },
        "id": "ffrpnms5ZgtF",
        "outputId": "6f226237-c839-4d60-c575-fa44c6f0844a"
      },
      "execution_count": null,
      "outputs": [
        {
          "output_type": "display_data",
          "data": {
            "text/plain": [
              "<Figure size 640x480 with 1 Axes>"
            ],
            "image/png": "[encoded data removed]"
          },
          "metadata": {}
        }
      ]
    },
    {
      "cell_type": "code",
      "source": [],
      "metadata": {
        "id": "UKO7djzacrqf"
      },
      "execution_count": null,
      "outputs": []
    }
  ]
}